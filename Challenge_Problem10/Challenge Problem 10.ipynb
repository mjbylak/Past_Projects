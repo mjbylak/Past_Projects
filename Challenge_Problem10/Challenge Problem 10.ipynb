{
 "cells": [
  {
   "cell_type": "code",
   "execution_count": 28,
   "metadata": {},
   "outputs": [],
   "source": [
    "## These statements import the squareroot function and the NumPy library\n",
    "from math import sqrt\n",
    "import numpy\n",
    "\n",
    "def rrsolver(c1, c2, a1, a2):\n",
    "    ## Making the character equation\n",
    "    ## The input's c1 and c2 are negated and put into variables b and c which represented shifting the character equation \n",
    "    ## Ex: x^2=x+2 -> x^2-x-2=0\n",
    "    ## Varibles b and c are then plugged into the quadratic equation\n",
    "    ## This gives each of the roots of the function which are assigned to root1 and root2\n",
    "    ## The short if statement makes sure the sqrt will not be a negative\n",
    "    ## If it is, the program prints \"There are no real roots\" and returns nothing to prevent a math domain error\n",
    "    b=(-c1)\n",
    "    c=(-c2)\n",
    "    if(((b**2)-4*(c))<0): \n",
    "        print('There are no real roots') \n",
    "        return\n",
    "    root1 = ((-(b)+sqrt((b**2)-4*(c)))/2)\n",
    "    root2 = ((-(b)-sqrt((b**2)-4*(c)))/2)\n",
    "    ## Next the program will find the value of the variables s and t in the equation F[n]=s(b)^n+t(c)^n\n",
    "    ## The boolean ensures there are two distinct roots\n",
    "    ## If there are distinct roots the program creates the two array inputs (solve1 and solve2) for Numpy\n",
    "    ## solve1 contains [1,1] because both roots are put to the zeroeth power, and then [root1,root2] because the 1st power\n",
    "    ## solve2 has the two solutions a[0] and a[1]\n",
    "    ## Variables s and t are assigned to the two outputs from the Numpy program \n",
    "    if(root1!=root2):\n",
    "        solve1=[[1,1],[root1,root2]]\n",
    "        solve2=[a1,a2]\n",
    "        s=(numpy.linalg.solve(solve1,solve2))[0]\n",
    "        t=(numpy.linalg.solve(solve1,solve2))[1]\n",
    "    ## If there is only one repeated root, a different chain is followed, with almost the same steps\n",
    "    ## Because the equation for repeated roots is multiplied by n on the right, a[0] will always have root2*0 which is 0\n",
    "    if(root1==root2):\n",
    "        solve1=[[1,0],[root1,root2]]\n",
    "        solve2=[a1,a2]\n",
    "        s=(numpy.linalg.solve(solve1,solve2))[0]\n",
    "        t=(numpy.linalg.solve(solve1,solve2))[1]\n",
    "    ## This lengthy series of print statements was used to match the spacing desired in the example solutions\n",
    "    print('a(n) = (', end='')\n",
    "    print(s, end='')\n",
    "    print(')*(', end='')\n",
    "    print(root1, end='')\n",
    "    print(')^n + (', end='')    \n",
    "    print(t, end='')\n",
    "    if(root1==root2):\n",
    "        print(')n*(', end='')\n",
    "    else:\n",
    "        print(')*(', end='')\n",
    "    print(root2, end='')\n",
    "    print(')^n')"
   ]
  }
 ],
 "metadata": {
  "kernelspec": {
   "display_name": "Python 3",
   "language": "python",
   "name": "python3"
  },
  "language_info": {
   "codemirror_mode": {
    "name": "ipython",
    "version": 3
   },
   "file_extension": ".py",
   "mimetype": "text/x-python",
   "name": "python",
   "nbconvert_exporter": "python",
   "pygments_lexer": "ipython3",
   "version": "3.8.3"
  }
 },
 "nbformat": 4,
 "nbformat_minor": 4
}
