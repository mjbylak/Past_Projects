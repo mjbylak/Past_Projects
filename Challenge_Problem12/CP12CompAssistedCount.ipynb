{
 "cells": [
  {
   "cell_type": "markdown",
   "metadata": {},
   "source": [
    "# Programming Challenge Problem 12\n",
    "\n",
    "## Computer-assisted Conjectures for Counting \n",
    "\n",
    "### Goal of this problem\n",
    "\n",
    "In this Challenge Problem, you will use Python to investigate a difficult counting problem; using the work you've don in Python, you will **make a conjecture** about the answer to the problem and **provide evidence** that your conjecture is true.  Before explaining what you will do with Python, let's first introduce the problem.\n",
    "\n",
    "### The problem: Seating disaster\n",
    "\n",
    "**You are not being asked to solve this problem!  Do not attempt to solve this problem!**\n",
    "\n",
    "> 100 movie-goers have bought tickets to see the sold out box office hit \"Cube 2: Hypercube.\"  The theater has assigned seats, so each customer has a ticket with their seat (a number 1-100) printed on it.  The customers line up to enter the theater.  The first person in line has lost their ticket, so they sit in a random seat.  The second person enters, and sits in their assigned seat (if it is empty) or a randomly chosen empty seat (if their seat is taken).  Each person in the line does the same thing, one after another.  What is the probability that the last person in line gets to sit in their own seat?\n",
    "\n",
    "This problem is impossible to solve by a brute force computation (there are more possible arrangements of seats than there are atoms in the universe).  There is a clever way to answer the problem, but that is not the point of this assignment.  Instead, you will write Python code to simulate this scenario; run your simulation many many times; and make a conjecture about the answer to the problem.\n",
    "\n",
    "### Your assignment\n",
    "\n",
    "Write a function in Python called `RunExperiment` that does the following: \n",
    "\n",
    "+ The function `RunExperiment` accepts a single input, ``SeatAssignment`` which is a _list that contains the seating assignment of everyone in the line_.  \n",
    "  - For example, if there are only 6 seats, and 6 people in the line, then the input ``[4, 2, 0, 3, 5, 1]`` means: the first person in line is assigned to seat 4; the second person is assigned seat 2; the third person is assigned seat 0, etc. (seats are numbered starting at 0)  Specifics about the input are:\n",
    "  - **The seat assignment of person with the lost ticket is the first element of this list**\n",
    "  - You may assume the input contains every number from 0 to ``len(SeatAssignment)`` exactly once\n",
    "  - It may be helpful to write your code so that it accepts lists of any length (instead of only length 100 lists) for testing purposes.  _However, I will only evaluate your code with valid inputs of length 100._\n",
    "+ The function `RunExperiment` simulates the problem described above, and ``return``s a list, ``ActualSeating``, that specifies the location of every movie-goer after they have taken their seats.\n",
    "  - If there are only six seats, then the list ``[3, 2, 0, 1, 5, 4]`` means: the first person in line sat in seat 3; the second person sat in seat 2; the third person sat in seat 0, etc.\n",
    "  \n",
    "Your code must **actually simulate the scenario** in the sense that your code should first randomly assign a seat to the first person, then go through each member of the line placing them in their seat (if empty) or in a random empty seat (if their seat is taken).  _Read further for information about generating integers in Python._\n",
    "\n",
    "Additionally, you will write a function in Python called `IterateExperiment` that does the following:\n",
    "+ The function `IterateExperiment` takes two inputs: `SeatAssignment`, and `n`.  The first is a _list that contains the seating assignment of everyone in the line_.  The second input is the number of times the experiment will be run.\n",
    "+ The function `IterateExperiment` calls `RunExperiment` a total of `n` times, and counts the number of times that the last person in line sits in their assigned seat.  `IterateExperiment` returns this count.\n",
    "+ It may be helpful to write your code so that it accepts lists of any length (instead of only length 100 lists) for testing purposes.  _However, I will only evaluate your code with valid inputs of length 100._\n",
    "\n",
    "Finally, you will make a conjecture about the answer to the problem described above.  Make your conjecture in a Markdown cell below all of your code.  Explain how your work provides evidence that the conjecture is true.  Does your work **prove** that your conjecture is correct?\n",
    "\n",
    "Here are some examples of how this `RunExperiment` could look when called.  _Note that the outputs are not entirely random.  On first execution, the first person in line randomly sits in seat 4; the next three people sit in their assigned seats; the fifth person (who is assigned seat 4) randomly chooses from the empty seats (1 and 5), the last person takes the only remaining seat (1).\n",
    "\n",
    "    RunExperiment([5, 2, 0, 3, 4, 1])\n",
    "    > [4, 2, 0, 3, 5, 1]\n",
    "    \n",
    "    RunExperiment([4, 2, 0, 3, 5, 1])\n",
    "    > [3, 2, 0, 1, 5, 4]\n",
    "    \n",
    "(Above, the `>` symbol just represents where the output cell would be in a Jupyter notebook. It's not part of the actual output.) \n",
    "\n",
    "Similarly, the function `IterateExperiment` might produce the following output.\n",
    " \n",
    "     IterateExperiment([5, 2, 0, 3, 4, 1] , 50)\n",
    "     > 29\n",
    "\n",
    "Meaning that the last person sat in their assigned seat $\\frac{29}{50}$ times.    \n",
    "    \n",
    "### Background material\n",
    "\n",
    "To write the `RunExperiment` and `IterateExperiment` functions, it will help to enlist some Python randomization functions that we've not used up to this point.  These are all found in the `random` module, which is a sort of library that contains a lot of tools for generating random numbers, random permutations, etc.  Evaluating`randrange(8)` will produce a random number in `range(8)` (so an integer between $0$ and $7$, inclusive). Here's an example of using the random range funtion, for instance: "
   ]
  },
  {
   "cell_type": "code",
   "execution_count": 3,
   "metadata": {},
   "outputs": [
    {
     "name": "stdout",
     "output_type": "stream",
     "text": [
      "3\n",
      "2\n",
      "4\n"
     ]
    }
   ],
   "source": [
    "from random import randrange\n",
    "\n",
    "print(randrange(6))\n",
    "print(randrange(6))\n",
    "print(randrange(6))"
   ]
  },
  {
   "cell_type": "code",
   "execution_count": 4,
   "metadata": {},
   "outputs": [
    {
     "data": {
      "text/plain": [
       "19"
      ]
     },
     "execution_count": 4,
     "metadata": {},
     "output_type": "execute_result"
    }
   ],
   "source": [
    "# Once the randrange function is imported, it doesn't need to be re-imported:\n",
    "randrange(100)"
   ]
  },
  {
   "cell_type": "markdown",
   "metadata": {},
   "source": [
    "One other tool from the random library that you may find useful is `shuffle`.  This function takes a list, and $\\ldots$ shuffles it.  For instance:"
   ]
  },
  {
   "cell_type": "code",
   "execution_count": 8,
   "metadata": {},
   "outputs": [
    {
     "name": "stdout",
     "output_type": "stream",
     "text": [
      "[0, 1, 2, 3, 4, 5, 6, 7, 8, 9]\n",
      "\n",
      "[3, 2, 6, 9, 5, 1, 7, 8, 4, 0]\n",
      "\n",
      "[4, 3, 5, 1, 7, 9, 8, 6, 0, 2]\n"
     ]
    }
   ],
   "source": [
    "from random import shuffle\n",
    "\n",
    "# this is one instance where the technical difference between\n",
    "# range(10) and the list [0,1,2,3,4,5,6,7,8,9] is relevant.\n",
    "# We can turn the \"range\" into a list by calling list(...)\n",
    "\n",
    "L = list(range(10)) \n",
    "\n",
    "print(L)\n",
    "print()\n",
    "\n",
    "shuffle(L)\n",
    "print(L)\n",
    "print()\n",
    "\n",
    "shuffle(L)\n",
    "print(L)\n"
   ]
  },
  {
   "cell_type": "markdown",
   "metadata": {},
   "source": [
    "### Hints\n",
    "\n",
    "+ You might want to use `shuffle` to generate an assignment of tickets to people in line.  This is something you really only need to do once.  You could probably use it for other things, too.\n",
    "\n",
    "+ When writing your `RunExperiment` function, you may find it useful to keep track of which seats are empty (you will also be keeping a list that tracks which seats are occupied)."
   ]
  },
  {
   "cell_type": "markdown",
   "metadata": {},
   "source": [
    "### Notes\n",
    "\n",
    "**Assumptions to make:** As mentioned above, assume that the only inputs to your functions are lists of length 100 that are formatted correctly (so each number from 0 to 99 appears exactly once).  You can assume that the second input to `IterateExperiment` is an integer that is at least 1.\n",
    "\n",
    "**Tools you can use:** Any function found in the `random` module is something you can use.  The functions `randrange`, `shuffle`, and `randint` are the ones you might need the most, but if you find something else that helps, go for it.\n",
    "\n",
    "**Restrictions to follow:** You are not allowed to use any tools in any other library.  Also, note that like some previous functions you've written for programming problems, this function **is supposed to** `return` an output.  The final line of the function should involve `return`, not `print`.\n",
    "\n",
    "### Submitting your work\n",
    "\n",
    "__What to submit:__ You will submit your work in a Jupyter notebook with each of the two functions above appearing in the same code block.  So, there should only be one large block of code in your submission.  Please __do not include any examples or test cases that you might use.__ (But please _do_ use test cases to check the correctness of your code.)  Each function should also be well-documented by including a clear, thorough description that explains in English how the code for each function works.  You can put those explanations in a separate cell in your Jupyter notebook as text, or you can include them as comments in your Python code. Also, _please make sure you have given your function the correct names as indicated above._\n",
    "\n",
    "Additionally, your Jupyter notebook should also have a Markdown cell that explains your conjecture about the answer to the **seating disaster** problem.  That cell must include an explanation of what conclusions you can and cannot make using your computer experiment.\n",
    "\n",
    "__How to submit your work:__ Go to Blackboard and then to the _Content/Challenge Problems_ area. Click on the link for __Challenge Problem 12__.  On the page that appears, find where it says \"Attach a file\" and click the button that says __Upload from computer__. Then locate the Jupyter notebook on your computer and select it. The name of the file should then appear below where you were clicking. _Then click the **Submit** button that appears at the bottom-right of the page. PLEASE NOTE THAT YOUR WORK HAS NOT BEEN SUBMITTED UNTIL YOU CLICK THE \"SUBMIT\" BUTTON._\n",
    "\n",
    "__When to submit your work:__ Challenge Problems do not have fixed deadlines.  Simply work on this until you are certain it's ready to be submitted, then submit it.  However, please remember __you may only submit one item per week__ and __no submissions may be made after 11:59pm Central time on Friday, December 11__. \n",
    "\n",
    "### Grading criteria\n",
    "\n",
    "Your functions will be tested by evaluating them a large number of times using a variety of ticket assignments.   Your grade will be based on whether your `RunExperiment` function accurately implements the scenario described and on the quality of the descriptions you provide. \n",
    "\n",
    "Remember that your work on challenge problems is graded using the EMRN scale discussed in the syllabus.\n",
    "\n",
    "| Grade | Description |\n",
    "|:----- | :---------- |\n",
    "| E | The functions produce valid/correct output (100%) of the time; `RunExperiment` accurately implements the scenario.  The student makes a valid & sensible conjecture about the answer to the problem.  Also, each function has an English description that provides a clear explanation of how each function works. | \n",
    "| M | The functions produce valid output (100%) of the time.  The student may have made an error implementing the scenario that causes the distribution of outputs to deviate from the expected distribution. The student makes a valid & sensible conjecture about the answer to the problem based on the output of their code. Also, each function has an English description that explains how the code works. |\n",
    "| R | There are no syntax errors in the code but the code produces invalid output some of the time.  Or, the explanations are provided but are not clear or do not explain how all parts of the code work. |\n",
    "| N | There is a syntax error produced when the code is executed; or there is at least one explanation missing; or the code uses external libraries; or the code has systemic flaws. |\n",
    "\n",
    "__Please note:__ You are expected to test your code thoroughly before submitting it. Make sure you do the following:\n",
    "\n",
    "+ Before you submit, put your code in a notebook and run it one last time to make sure it does not produce errors when the code is executed. If the submission throws an error when I execute it, the grade on the work will automatically be N, because debugging your code is your responsibility. \n",
    "+ Before you submit, run it a large number of times with a single input), then with different inputs, to make sure it is producing the correct output each time.\n",
    "\n",
    "The best way to check your work is to __look up the problem online and find out the actual answer.__ If the last person sits in their seat with the appropriate frequency, then you have probably implemented the scenario correctly."
   ]
  },
  {
   "cell_type": "code",
   "execution_count": null,
   "metadata": {
    "collapsed": true
   },
   "outputs": [],
   "source": []
  }
 ],
 "metadata": {
  "anaconda-cloud": {},
  "kernelspec": {
   "display_name": "Python 3",
   "language": "python",
   "name": "python3"
  },
  "language_info": {
   "codemirror_mode": {
    "name": "ipython",
    "version": 3
   },
   "file_extension": ".py",
   "mimetype": "text/x-python",
   "name": "python",
   "nbconvert_exporter": "python",
   "pygments_lexer": "ipython3",
   "version": "3.8.5"
  }
 },
 "nbformat": 4,
 "nbformat_minor": 1
}
