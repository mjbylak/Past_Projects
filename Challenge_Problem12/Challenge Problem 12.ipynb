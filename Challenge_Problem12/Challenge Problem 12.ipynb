{
 "cells": [
  {
   "cell_type": "code",
   "execution_count": 32,
   "metadata": {},
   "outputs": [],
   "source": [
    "## First the code imports the random function\n",
    "from random import randrange\n",
    "## Next shuffle is imported\n",
    "from random import shuffle\n",
    "## This just imports the random module\n",
    "import random\n",
    "\n",
    "def RunExperiment(SeatAssignment):\n",
    "    ## This creates the list ActualSeating\n",
    "    ActualSeating=[]\n",
    "    ## The for loop will iterate through the SeatAssignment List\n",
    "    for x in (SeatAssignment):\n",
    "        ## If it's the first value of the list, it just picks a random value from the possible range \n",
    "        ##(This simulates the first person picking a random spot to sit)\n",
    "        if (x==SeatAssignment[0]):\n",
    "            ActualSeating.append(randrange(len(SeatAssignment)))\n",
    "        else:\n",
    "            ## The boolean checks if the seat has been taken, and if not, the value is appended meaning they sat in their seat\n",
    "            if x not in ActualSeating:\n",
    "                ActualSeating.append(x)\n",
    "            ## If their seat is taken, they begin picking through random seats (ran is the first random seat checked)\n",
    "            else:\n",
    "                ran=randrange(len(SeatAssignment))\n",
    "                ## If ran is an open seat (not in ActualSeating), it is appended to, meaning it is now taken\n",
    "                if (ran not in ActualSeating):\n",
    "                    ActualSeating.append(ran)\n",
    "                ## If seat \"ran\" is not available, a while loop is created to continue randomly picking numbers in the range,\n",
    "                ## until one that is availabe is found, and then the while loop ends and the value is appended\n",
    "                else:\n",
    "                    while(ran in ActualSeating):\n",
    "                        ran=randrange(len(SeatAssignment))\n",
    "                    ActualSeating.append(ran)\n",
    "    ## The list ActualSeating is returned\n",
    "    return(ActualSeating)\n",
    "\n",
    "def IterateExperiment(SeatAssignment, n):\n",
    "    ## \"count\" keeps track of the number of times the last value in ActualSeating is the last value in SeatAssignment\n",
    "    count=0\n",
    "    ## The for loop runs the simulation n times\n",
    "    for i in range(n):\n",
    "        ## This boolean is asking if the last value in ActualSeating is the last value in SeatAssignment \n",
    "        if(RunExperiment(SeatAssignment)[(len(SeatAssignment)-1)]==SeatAssignment[len(SeatAssignment)-1]):\n",
    "            ## If it is, count is incremented \n",
    "            count+=1 \n",
    "    ## Finally, the number of times the last value in ActualSeating is equal to the last value in SeatAssignment\n",
    "    return (count)"
   ]
  },
  {
   "cell_type": "markdown",
   "metadata": {},
   "source": [
    "Conjecture:\n",
    "\n",
    "From the program I have designed, I believe that the answer to the problem is 50 percent. If every single possible combination of seating arrangements were to be simulated, 50 percent of them will feature the last person to enter the movie theatre actually sitting in their assigned seat. \n",
    "\n",
    "To prove this, I designed a program that simulates people entering the movie theatre one-at-a-time to sit down (following the rules of the scenario). Next, I created a function that runs the simulation a specified number of times and returns the number of times that the last person to enter the theatre sat in their assigned seat. Running it with n values up to 1000 several times, the average proportion of times returned by the function IterateExperiment was nearly a perfect half of all simulations. \n",
    "\n",
    "Example results of running IterateExperiment(Mist, 1000)\n",
    "(Mist is a shuffled list of every number 0-99)\n",
    "\n",
    "502,\n",
    "500,\n",
    "497,\n",
    "521,\n",
    "498,\n",
    "499,\n",
    "513,\n",
    "490,\n",
    "483\n",
    "\n",
    "Added together: 4503\n",
    "\n",
    "Divided by 9 = 500.333 (3 repeating)\n",
    "\n",
    "Although my program does not definitively prove that my conjecture is correct, it strongly and consistently supports the conjecture."
   ]
  },
  {
   "cell_type": "code",
   "execution_count": null,
   "metadata": {},
   "outputs": [],
   "source": []
  }
 ],
 "metadata": {
  "kernelspec": {
   "display_name": "Python 3",
   "language": "python",
   "name": "python3"
  },
  "language_info": {
   "codemirror_mode": {
    "name": "ipython",
    "version": 3
   },
   "file_extension": ".py",
   "mimetype": "text/x-python",
   "name": "python",
   "nbconvert_exporter": "python",
   "pygments_lexer": "ipython3",
   "version": "3.8.3"
  }
 },
 "nbformat": 4,
 "nbformat_minor": 4
}
